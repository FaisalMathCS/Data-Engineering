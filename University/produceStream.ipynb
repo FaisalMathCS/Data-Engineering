{
 "cells": [
  {
   "cell_type": "code",
   "execution_count": null,
   "id": "59d839e8",
   "metadata": {},
   "outputs": [],
   "source": [
    "# !pip install pyspark \n",
    "# !pip install kafka-python"
   ]
  },
  {
   "cell_type": "code",
   "execution_count": 1,
   "id": "86334dc2",
   "metadata": {},
   "outputs": [],
   "source": [
    "from pyspark.sql import SparkSession\n",
    "import time\n",
    "from kafka import KafkaProducer\n",
    "import json"
   ]
  },
  {
   "cell_type": "code",
   "execution_count": 2,
   "id": "f3ba1ed4",
   "metadata": {},
   "outputs": [
    {
     "name": "stdout",
     "output_type": "stream",
     "text": [
      "Session creted\n"
     ]
    }
   ],
   "source": [
    "#this is to send the data to kafka simulating a streaming data\n",
    "#From here untill the cell marked by ** \n",
    "\n",
    "#start the spark session + ensure that the configuration package between sprak and kafka is there\n",
    "spark = SparkSession.builder \\\n",
    "    .appName(\"CSVToKafka\") \\\n",
    "    .config(\"spark.jars.packages\", \"org.apache.spark:spark-sql-kafka-0-10_2.13:3.5.0\") \\\n",
    "    .getOrCreate()\n",
    "\n",
    "print(\"Session creted\")"
   ]
  },
  {
   "cell_type": "code",
   "execution_count": 3,
   "id": "eae6afa8",
   "metadata": {},
   "outputs": [],
   "source": [
    "#read the data as a spark df \n",
    "csv_file_path = \"smoke_detection_iot.csv\"  # Change this to the path of your CSV file\n",
    "df = spark.read.option(\"header\", \"true\").csv(csv_file_path)"
   ]
  },
  {
   "cell_type": "code",
   "execution_count": 4,
   "id": "4eb478ec",
   "metadata": {},
   "outputs": [],
   "source": [
    "#connect to kafka using producer to get ready to send the data\n",
    "producer = KafkaProducer(bootstrap_servers='localhost:9092',\n",
    "                         value_serializer=lambda v: json.dumps(v).encode('utf-8'))"
   ]
  },
  {
   "cell_type": "code",
   "execution_count": 5,
   "id": "cfe8484e",
   "metadata": {},
   "outputs": [],
   "source": [
    "# topic name \n",
    "kafka_topic = 'input'"
   ]
  },
  {
   "cell_type": "code",
   "execution_count": 6,
   "id": "280dc266",
   "metadata": {},
   "outputs": [
    {
     "name": "stdout",
     "output_type": "stream",
     "text": [
      "STarting to send the data to kafka\n",
      "data sent!\n"
     ]
    }
   ],
   "source": [
    "# last cell in producing data as a stream each second\n",
    "# going through the datafram row by row to simulate a streaming data then send the data to the kafka topic \n",
    "print(\"STarting to send the data to kafka\")\n",
    "count = 0\n",
    "for row in df.collect():\n",
    "    producer.send(kafka_topic, row.asDict())\n",
    "    producer.flush()\n",
    "    if count == 10:\n",
    "        break\n",
    "    count += 1\n",
    "print(\"data sent!\")\n",
    "# Close the Kafka producer\n",
    "producer.close()"
   ]
  },
  {
   "cell_type": "code",
   "execution_count": 7,
   "id": "8ef0496c",
   "metadata": {},
   "outputs": [],
   "source": [
    "spark.stop()"
   ]
  },
  {
   "cell_type": "code",
   "execution_count": null,
   "id": "f3f1ad41",
   "metadata": {},
   "outputs": [],
   "source": [
    "# # Convert all rows in the dataframe to a list of dictionaries\n",
    "# data_to_send = [row.asDict() for row in df.collect()]\n",
    "\n",
    "# # Convert the list of dictionaries to a JSON string\n",
    "# json_data = json.dumps(data_to_send)\n",
    "\n",
    "# # Send the JSON string to the Kafka topic\n",
    "# producer.send(kafka_topic, json_data.encode('utf-8'))\n",
    "# producer.flush()\n",
    "\n",
    "# print(\"Data sent!\")\n",
    "\n",
    "# # Close the Kafka producer\n",
    "# producer.close()"
   ]
  }
 ],
 "metadata": {
  "kernelspec": {
   "display_name": "Python 3 (ipykernel)",
   "language": "python",
   "name": "python3"
  },
  "language_info": {
   "codemirror_mode": {
    "name": "ipython",
    "version": 3
   },
   "file_extension": ".py",
   "mimetype": "text/x-python",
   "name": "python",
   "nbconvert_exporter": "python",
   "pygments_lexer": "ipython3",
   "version": "3.9.7"
  }
 },
 "nbformat": 4,
 "nbformat_minor": 5
}
